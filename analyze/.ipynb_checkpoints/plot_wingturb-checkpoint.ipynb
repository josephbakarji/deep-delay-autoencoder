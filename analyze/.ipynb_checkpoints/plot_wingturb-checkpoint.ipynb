{
 "cells": [
  {
   "cell_type": "code",
   "execution_count": 1,
   "metadata": {},
   "outputs": [],
   "source": [
    "\n",
    "import os\n",
    "# os.environ[\"CUDA_DEVICE_ORDER\"] = \"PCI_BUS_ID\"\n",
    "# os.environ[\"CUDA_VISIBLE_DEVICES\"] = \"2\"\n",
    "# os.environ['KMP_DUPLICATE_LIB_OK'] = 'TRUE'\n",
    "import tensorflow as tf\n",
    "\n",
    "\n",
    "import sys\n",
    "sys.path.append(\"../src\")\n",
    "sys.path.append(\"../\")"
   ]
  },
  {
   "cell_type": "code",
   "execution_count": 2,
   "metadata": {
    "scrolled": true
   },
   "outputs": [],
   "source": [
    "\n",
    "\n",
    "import datetime\n",
    "import numpy as np\n",
    "import matplotlib.pyplot as plt\n",
    "from pickle5 import pickle\n",
    "from scipy.io import loadmat\n",
    "\n",
    "import pdb\n",
    "\n",
    "import matplotlib.pyplot as plt\n",
    "from mpl_toolkits.mplot3d import Axes3D\n",
    "%matplotlib inline\n",
    "\n",
    "from analyze import *\n",
    "from sindy_utils import sindy_library_names\n",
    "from solvers import RealData\n",
    "from paths import ROOTPATH\n",
    "\n",
    "from os import listdir\n",
    "\n",
    "import pandas as pd\n",
    "# from IPython.display import display\n"
   ]
  },
  {
   "cell_type": "code",
   "execution_count": 3,
   "metadata": {},
   "outputs": [
    {
     "name": "stdout",
     "output_type": "stream",
     "text": [
      "lorenzww_basic\n",
      "fluttering_Re1000\n",
      "pendulum_basic\n",
      "fluttering_basic\n",
      "/home/jbakarji/Documents/codes/deep-delay-autoencoder/testcases/results/\n"
     ]
    }
   ],
   "source": [
    "path=ROOTPATH+'testcases/results/'\n",
    "cases = get_cases(path, filter_case=None, print_cases=True)\n",
    "p1, p2, p3 = params_names()\n",
    "print(path)\n",
    "\n",
    "\n",
    "annots = loadmat(ROOTPATH+'data/small_files/NACA0012_Re1000_AoA35_2D_forces.mat')\n",
    "cd = annots['CD'].flatten()\n",
    "data = {\n",
    "'dt': annots['dt'][0][0],\n",
    "'time': [np.linspace(0, annots['dt'][0][0]*len(cd), len(cd), endpoint=False)],\n",
    "'x': [cd]\n",
    "}"
   ]
  },
  {
   "cell_type": "code",
   "execution_count": 5,
   "metadata": {},
   "outputs": [
    {
     "name": "stdout",
     "output_type": "stream",
     "text": [
      "0 results_202209011328_fluttering_Re1000\n",
      "1 results_202208311831_fluttering_Re1000\n",
      "2 results_202208300802_fluttering_Re1000\n",
      "3 results_202208300729_fluttering_Re1000\n",
      "4 results_202208292212_fluttering_Re1000\n",
      "5 results_202208292145_fluttering_Re1000\n",
      "6 results_202208292052_fluttering_Re1000\n",
      "7 results_202208291949_fluttering_Re1000\n"
     ]
    }
   ],
   "source": [
    "name_list = get_names(['fluttering_Re1000'], path)\n",
    "for idx, name in enumerate(name_list): print(idx, name) \n",
    "\n",
    "end_time = 5\n",
    "start_time = 0\n",
    "end_time_plot = 100\n",
    "display_params = p1 #primary_params + secondary_params + tertiary_params\n",
    "t0_frac = 0.2\n",
    "query_remove = True\n",
    "threshold = 1e-2\n"
   ]
  },
  {
   "cell_type": "code",
   "execution_count": null,
   "metadata": {},
   "outputs": [
    {
     "name": "stdout",
     "output_type": "stream",
     "text": [
      "name:  results_202209011328_fluttering_Re1000\n"
     ]
    },
    {
     "name": "stderr",
     "output_type": "stream",
     "text": [
      "2022-09-02 09:12:02.811243: I tensorflow/core/platform/cpu_feature_guard.cc:193] This TensorFlow binary is optimized with oneAPI Deep Neural Network Library (oneDNN) to use the following CPU instructions in performance-critical operations:  AVX512F\n",
      "To enable them in other operations, rebuild TensorFlow with the appropriate compiler flags.\n",
      "2022-09-02 09:12:03.376333: I tensorflow/core/common_runtime/gpu/gpu_device.cc:1532] Created device /job:localhost/replica:0/task:0/device:GPU:0 with 599 MB memory:  -> device: 0, name: NVIDIA GeForce RTX 2080 Ti, pci bus id: 0000:67:00.0, compute capability: 7.5\n",
      "2022-09-02 09:12:07.681057: W tensorflow/core/common_runtime/graph_constructor.cc:805] Node 'PartitionedCall' has 1 outputs but the _output_shapes attribute specifies shapes for 8 outputs. Output shapes may be inaccurate.\n"
     ]
    }
   ],
   "source": [
    "varname = list('xyz123')\n",
    "\n",
    "for name in name_list:\n",
    "    print('name: ', name)\n",
    "    model, params, result = load_results(name, path)\n",
    "    print('got results...')\n",
    "    if model is None or params is None:\n",
    "        continue\n",
    "    \n",
    "    params = pickle2dict(params)\n",
    "    end_time_idx = int(end_time_plot/params['dt'])\n",
    "    \n",
    "    # FIX Experimental dat\n",
    "    S = RealData(input_dim=params['input_dim'],\n",
    "    interpolate=params['interpolate'],\n",
    "    interp_dt=params['interp_dt'],\n",
    "    interp_kind=params['interp_kind'],\n",
    "    savgol_interp_coefs=params['interp_coefs'])\n",
    "\n",
    "    S.build_solution(data)\n",
    "\n",
    "    idx0 = int(start_time/params['dt']) \n",
    "    idx = int(end_time/params['dt']) \n",
    "    test_data = [S.x[:, idx0:idx].T, S.dx[:, idx0:idx].T]\n",
    "    test_time = S.t[idx0:idx]\n",
    "\n",
    "    prediction = model.predict(test_data)\n",
    "    \n",
    "    if end_time_idx > test_data[0].shape[0]:\n",
    "        end_time_idx = test_data[0].shape[0] \n",
    "\n",
    "    ## Display Optimal Coefficients \n",
    "    coef_names = sindy_library_names(params['latent_dim'], \n",
    "                                        params['poly_order'], \n",
    "                                        include_sine=params['include_sine'], \n",
    "                                        exact_features=params['exact_features'])\n",
    "\n",
    "    print('------- COEFFICIENTS -------')\n",
    "    df = pd.DataFrame((model.sindy.coefficients).numpy()*\n",
    "                        (np.abs((model.sindy.coefficients).numpy()) > threshold).astype(float), \n",
    "                        columns=varname[:params['latent_dim']], \n",
    "                        index=coef_names)\n",
    "    display(df)\n",
    "\n",
    "    print('-------- Mask ------')\n",
    "    display(pd.DataFrame(model.sindy.coefficients_mask.numpy(), columns=varname[:params['latent_dim']], index=coef_names))\n",
    "\n",
    "    print('-------- Parameters ------')\n",
    "    disp_params = get_display_params(params, display_params=display_params)\n",
    "    \n",
    "\n",
    "\n",
    "    ## PLOT LOSSES\n",
    "    plot_losses(result, t0_frac=t0_frac)\n",
    "        \n",
    "    testin = test_data[0]\n",
    "    if params['svd_dim'] is not None:\n",
    "        testin = test_data[1]\n",
    "    \n",
    "\n",
    "    z_latent = model.encoder(testin).numpy()\n",
    "    z0 = np.array(z_latent[0])\n",
    "    z_sim = sindy_simulate(z0, test_time, model.sindy.coefficients_mask* model.sindy.coefficients, \n",
    "                            params['poly_order'], params['include_sine'], exact_features=params['exact_features'])\n",
    "    \n",
    "    original_sim = None\n",
    "        \n",
    "\n",
    "    plot_txy(test_time[:end_time_idx], testin[:end_time_idx, :], prediction[:end_time_idx, :], n=1,\n",
    "            title='Input vs. Discovered 1st Dim.', names=['True test', 'Auto-encoder prediction']) \n",
    "\n",
    "    plot_portraits(z_sim, n=params['latent_dim'], title='Discovered Simulated Dynamics')\n",
    "    plot_portraits(z_latent, n=params['latent_dim'], title='Latent Variable')\n",
    "\n",
    "    plot_txy(test_time[:end_time_idx], testin[:end_time_idx, :], z_sim[:end_time_idx, :], n=1,\n",
    "            title='Input vs. Discovered 1st Dim.', names=['Input data', 'Discovered']) \n",
    "    plot_txy(test_time[:end_time_idx], testin[:end_time_idx, :], z_latent[:end_time_idx, :], n=1,\n",
    "            title='Input vs. Latent z_0', names=['Input data', 'Latent']) \n",
    "\n",
    "    if params['latent_dim'] > 2:\n",
    "        plot3d_comparison(z_sim, z_latent, zorig=original_sim, title='Discovered SINDy dynamics')\n",
    "\n",
    "\n",
    "    plt.show()"
   ]
  },
  {
   "cell_type": "code",
   "execution_count": null,
   "metadata": {},
   "outputs": [],
   "source": []
  }
 ],
 "metadata": {
  "kernelspec": {
   "display_name": "Python 3 (ipykernel)",
   "language": "python",
   "name": "python3"
  },
  "language_info": {
   "codemirror_mode": {
    "name": "ipython",
    "version": 3
   },
   "file_extension": ".py",
   "mimetype": "text/x-python",
   "name": "python",
   "nbconvert_exporter": "python",
   "pygments_lexer": "ipython3",
   "version": "3.10.4"
  },
  "vscode": {
   "interpreter": {
    "hash": "5e1cd2088bc57d8ced854bbb7b8182f7763d6349a67919d377f49e4f66f46c01"
   }
  }
 },
 "nbformat": 4,
 "nbformat_minor": 2
}
