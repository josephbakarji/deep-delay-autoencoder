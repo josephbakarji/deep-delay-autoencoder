{
 "cells": [
  {
   "cell_type": "code",
   "execution_count": 1,
   "metadata": {},
   "outputs": [],
   "source": [
    "\n",
    "import os\n",
    "# os.environ[\"CUDA_DEVICE_ORDER\"] = \"PCI_BUS_ID\"\n",
    "# os.environ[\"CUDA_VISIBLE_DEVICES\"] = \"2\"\n",
    "# os.environ['KMP_DUPLICATE_LIB_OK'] = 'TRUE'\n",
    "import tensorflow as tf\n",
    "\n",
    "\n",
    "import sys\n",
    "sys.path.append(\"../src\")\n",
    "sys.path.append(\"../\")\n"
   ]
  },
  {
   "cell_type": "code",
   "execution_count": 2,
   "metadata": {
    "scrolled": true
   },
   "outputs": [],
   "source": [
    "\n",
    "\n",
    "import datetime\n",
    "import numpy as np\n",
    "import matplotlib.pyplot as plt\n",
    "from pickle5 import pickle\n",
    "\n",
    "import pdb\n",
    "\n",
    "import matplotlib.pyplot as plt\n",
    "from mpl_toolkits.mplot3d import Axes3D\n",
    "%matplotlib inline\n",
    "\n",
    "from analyze import get_names, read_results, delete_results, get_cases, params_names, load_results\n",
    "from paths import ROOTPATH\n",
    "\n",
    "from os import listdir\n",
    "\n",
    "import pandas as pd\n",
    "# from IPython.display import display\n"
   ]
  },
  {
   "cell_type": "markdown",
   "metadata": {},
   "source": [
    "### Print available cases"
   ]
  },
  {
   "cell_type": "code",
   "execution_count": 3,
   "metadata": {},
   "outputs": [
    {
     "name": "stdout",
     "output_type": "stream",
     "text": [
      "fluttering_basic\n",
      "pendulum_basic\n",
      "lorenzww_basic\n",
      "fluttering_Re1000\n",
      "/Users/dynamicslab/Documents/academic/research/deep-delay-autoencoder/testcases/results/\n"
     ]
    }
   ],
   "source": [
    "path=ROOTPATH+'testcases/results/'\n",
    "cases = get_cases(path, filter_case=None, print_cases=True)\n",
    "p1, p2, p3 = params_names()\n",
    "print(path)"
   ]
  },
  {
   "cell_type": "markdown",
   "metadata": {},
   "source": [
    "### Get names for a given case"
   ]
  },
  {
   "cell_type": "code",
   "execution_count": 6,
   "metadata": {},
   "outputs": [
    {
     "name": "stdout",
     "output_type": "stream",
     "text": [
      "0 results_202208311523_fluttering_Re1000\n",
      "1 results_202208311206_fluttering_Re1000\n",
      "2 results_202208311153_fluttering_Re1000\n",
      "3 results_202208311152_fluttering_Re1000\n",
      "4 results_202208300802_fluttering_Re1000\n",
      "5 results_202208300729_fluttering_Re1000\n",
      "6 results_202208292212_fluttering_Re1000\n",
      "7 results_202208292145_fluttering_Re1000\n",
      "8 results_202208292052_fluttering_Re1000\n",
      "9 results_202208291949_fluttering_Re1000\n",
      "10 results_202208291942_fluttering_basic\n",
      "11 results_202208291941_fluttering_basic\n",
      "12 results_202208291910_lorenzww_basic\n",
      "13 results_202208291909_lorenzww_basic\n",
      "14 results_202208291902_lorenzww_basic\n",
      "15 results_202208291834_lorenzww_basic\n",
      "16 results_202208291754_lorenzww_basic\n",
      "17 results_202208291327_pendulum_basic\n",
      "18 results_202208291325_pendulum_basic\n",
      "19 results_202208291322_pendulum_basic\n",
      "20 results_202208180322_pendulum_basic\n",
      "21 results_202208180308_pendulum_basic\n"
     ]
    }
   ],
   "source": [
    "name_list = get_names(cases, path)\n",
    "for idx, name in enumerate(name_list): print(idx, name) "
   ]
  },
  {
   "cell_type": "code",
   "execution_count": 13,
   "metadata": {},
   "outputs": [
    {
     "name": "stdout",
     "output_type": "stream",
     "text": [
      "name:  results_202208292212_fluttering_Re1000\n"
     ]
    },
    {
     "name": "stderr",
     "output_type": "stream",
     "text": [
      "WARNING:absl:Importing a function (__inference_internal_grad_fn_2147616) with ops with unsaved custom gradients. Will likely fail if a gradient is requested.\n"
     ]
    },
    {
     "name": "stdout",
     "output_type": "stream",
     "text": [
      "got results...\n",
      "Generating Test Solution...\n"
     ]
    },
    {
     "ename": "UnboundLocalError",
     "evalue": "local variable 'f' referenced before assignment",
     "output_type": "error",
     "traceback": [
      "\u001b[0;31m---------------------------------------------------------------------------\u001b[0m",
      "\u001b[0;31mUnboundLocalError\u001b[0m                         Traceback (most recent call last)",
      "\u001b[1;32m/Users/dynamicslab/Documents/academic/research/deep-delay-autoencoder/analyze/analyze_data.ipynb Cell 7\u001b[0m in \u001b[0;36m<cell line: 7>\u001b[0;34m()\u001b[0m\n\u001b[1;32m      <a href='vscode-notebook-cell:/Users/dynamicslab/Documents/academic/research/deep-delay-autoencoder/analyze/analyze_data.ipynb#X10sZmlsZQ%3D%3D?line=3'>4</a>\u001b[0m t0_frac \u001b[39m=\u001b[39m \u001b[39m0.2\u001b[39m\n\u001b[1;32m      <a href='vscode-notebook-cell:/Users/dynamicslab/Documents/academic/research/deep-delay-autoencoder/analyze/analyze_data.ipynb#X10sZmlsZQ%3D%3D?line=4'>5</a>\u001b[0m query_remove \u001b[39m=\u001b[39m \u001b[39mTrue\u001b[39;00m\n\u001b[0;32m----> <a href='vscode-notebook-cell:/Users/dynamicslab/Documents/academic/research/deep-delay-autoencoder/analyze/analyze_data.ipynb#X10sZmlsZQ%3D%3D?line=6'>7</a>\u001b[0m non_existing_files, non_existing_params, remove_files \u001b[39m=\u001b[39m read_results([name_list[\u001b[39m6\u001b[39;49m]], \n\u001b[1;32m      <a href='vscode-notebook-cell:/Users/dynamicslab/Documents/academic/research/deep-delay-autoencoder/analyze/analyze_data.ipynb#X10sZmlsZQ%3D%3D?line=7'>8</a>\u001b[0m                                                         path, \n\u001b[1;32m      <a href='vscode-notebook-cell:/Users/dynamicslab/Documents/academic/research/deep-delay-autoencoder/analyze/analyze_data.ipynb#X10sZmlsZQ%3D%3D?line=8'>9</a>\u001b[0m                                                         end_time\u001b[39m=\u001b[39;49mend_time, \n\u001b[1;32m     <a href='vscode-notebook-cell:/Users/dynamicslab/Documents/academic/research/deep-delay-autoencoder/analyze/analyze_data.ipynb#X10sZmlsZQ%3D%3D?line=9'>10</a>\u001b[0m                                                         display_params\u001b[39m=\u001b[39;49mdisplay_params, \n\u001b[1;32m     <a href='vscode-notebook-cell:/Users/dynamicslab/Documents/academic/research/deep-delay-autoencoder/analyze/analyze_data.ipynb#X10sZmlsZQ%3D%3D?line=10'>11</a>\u001b[0m                                                         t0_frac\u001b[39m=\u001b[39;49mt0_frac, \n\u001b[1;32m     <a href='vscode-notebook-cell:/Users/dynamicslab/Documents/academic/research/deep-delay-autoencoder/analyze/analyze_data.ipynb#X10sZmlsZQ%3D%3D?line=11'>12</a>\u001b[0m                                                         end_time_plot\u001b[39m=\u001b[39;49mend_time_plot,\n\u001b[1;32m     <a href='vscode-notebook-cell:/Users/dynamicslab/Documents/academic/research/deep-delay-autoencoder/analyze/analyze_data.ipynb#X10sZmlsZQ%3D%3D?line=12'>13</a>\u001b[0m                                                         query_remove\u001b[39m=\u001b[39;49mquery_remove)\n",
      "File \u001b[0;32m~/Documents/academic/research/deep-delay-autoencoder/analyze/analyze.py:193\u001b[0m, in \u001b[0;36mread_results\u001b[0;34m(name_list, path, start_time, end_time, threshold, t0_frac, end_time_plot, display_params, query_remove, known_attractor)\u001b[0m\n\u001b[1;32m    187\u001b[0m         S \u001b[39m=\u001b[39m SynthData(model\u001b[39m=\u001b[39mparams[\u001b[39m'\u001b[39m\u001b[39mmodel\u001b[39m\u001b[39m'\u001b[39m], \n\u001b[1;32m    188\u001b[0m                 args\u001b[39m=\u001b[39mparams[\u001b[39m'\u001b[39m\u001b[39msystem_coefficients\u001b[39m\u001b[39m'\u001b[39m], \n\u001b[1;32m    189\u001b[0m                 noise\u001b[39m=\u001b[39mparams[\u001b[39m'\u001b[39m\u001b[39mnoise\u001b[39m\u001b[39m'\u001b[39m], \n\u001b[1;32m    190\u001b[0m                 input_dim\u001b[39m=\u001b[39mparams[\u001b[39m'\u001b[39m\u001b[39minput_dim\u001b[39m\u001b[39m'\u001b[39m], \n\u001b[1;32m    191\u001b[0m                 normalization\u001b[39m=\u001b[39mparams[\u001b[39m'\u001b[39m\u001b[39mnormalization\u001b[39m\u001b[39m'\u001b[39m])\n\u001b[1;32m    192\u001b[0m         \u001b[39mprint\u001b[39m(\u001b[39m'\u001b[39m\u001b[39mGenerating Test Solution...\u001b[39m\u001b[39m'\u001b[39m)\n\u001b[0;32m--> 193\u001b[0m         S\u001b[39m.\u001b[39mrun_sim(\u001b[39m1\u001b[39m, end_time, params[\u001b[39m'\u001b[39m\u001b[39mdt\u001b[39m\u001b[39m'\u001b[39m])\n\u001b[1;32m    195\u001b[0m \u001b[39m#         if params['model'] == 'lorenzww':\u001b[39;00m\n\u001b[1;32m    196\u001b[0m \u001b[39m#             L.filename='/home/joebakarji/delay-auto/main/examples/data/lorenzww.json'\u001b[39;00m\n\u001b[1;32m    197\u001b[0m \u001b[39m#             data = L.get_solution()\u001b[39;00m\n\u001b[0;32m   (...)\u001b[0m\n\u001b[1;32m    200\u001b[0m \n\u001b[1;32m    201\u001b[0m         \u001b[39m## Get SVD data (write in separate function)\u001b[39;00m\n\u001b[1;32m    202\u001b[0m         S \u001b[39m=\u001b[39m make_inputs_svd(S, params[\u001b[39m'\u001b[39m\u001b[39msvd_dim\u001b[39m\u001b[39m'\u001b[39m], params[\u001b[39m'\u001b[39m\u001b[39mscale\u001b[39m\u001b[39m'\u001b[39m], params[\u001b[39m'\u001b[39m\u001b[39mdt\u001b[39m\u001b[39m'\u001b[39m])\n",
      "File \u001b[0;32m~/Documents/academic/research/deep-delay-autoencoder/analyze/../src/solvers.py:37\u001b[0m, in \u001b[0;36mSynthData.run_sim\u001b[0;34m(self, n_ics, tend, dt, z0_stat)\u001b[0m\n\u001b[1;32m     34\u001b[0m \u001b[39mdef\u001b[39;00m \u001b[39mrun_sim\u001b[39m(\u001b[39mself\u001b[39m, n_ics, tend, dt, z0_stat\u001b[39m=\u001b[39m\u001b[39mNone\u001b[39;00m):\n\u001b[1;32m     35\u001b[0m     \u001b[39m\"\"\" Runs solver over multiple initial conditions and builds Hankel matrix \"\"\"\u001b[39;00m\n\u001b[0;32m---> 37\u001b[0m     f, Xi, model_dim, z0_mean_sug, z0_std_sug \u001b[39m=\u001b[39m get_model(\u001b[39mself\u001b[39;49m\u001b[39m.\u001b[39;49mmodel, \u001b[39mself\u001b[39;49m\u001b[39m.\u001b[39;49margs, \u001b[39mself\u001b[39;49m\u001b[39m.\u001b[39;49mnormalization)\n\u001b[1;32m     38\u001b[0m     \u001b[39mself\u001b[39m\u001b[39m.\u001b[39mnormalization \u001b[39m=\u001b[39m \u001b[39mself\u001b[39m\u001b[39m.\u001b[39mnormalization \u001b[39mif\u001b[39;00m \u001b[39mself\u001b[39m\u001b[39m.\u001b[39mnormalization \u001b[39mis\u001b[39;00m \u001b[39mnot\u001b[39;00m \u001b[39mNone\u001b[39;00m \u001b[39melse\u001b[39;00m np\u001b[39m.\u001b[39mones((model_dim,))\n\u001b[1;32m     39\u001b[0m     \u001b[39mif\u001b[39;00m z0_stat \u001b[39mis\u001b[39;00m \u001b[39mNone\u001b[39;00m:\n",
      "File \u001b[0;32m~/Documents/academic/research/deep-delay-autoencoder/analyze/../src/dynamical_models.py:89\u001b[0m, in \u001b[0;36mget_model\u001b[0;34m(name, args, normalization, use_sine)\u001b[0m\n\u001b[1;32m     86\u001b[0m     z0_mean_sug \u001b[39m=\u001b[39m [np\u001b[39m.\u001b[39mpi\u001b[39m/\u001b[39m\u001b[39m2\u001b[39m, \u001b[39m0\u001b[39m]\n\u001b[1;32m     87\u001b[0m     z0_std_sug \u001b[39m=\u001b[39m [np\u001b[39m.\u001b[39mpi\u001b[39m/\u001b[39m\u001b[39m2\u001b[39m, \u001b[39m2\u001b[39m]\n\u001b[0;32m---> 89\u001b[0m \u001b[39mreturn\u001b[39;00m f, Xi, dim, z0_mean_sug, z0_std_sug\n",
      "\u001b[0;31mUnboundLocalError\u001b[0m: local variable 'f' referenced before assignment"
     ]
    }
   ],
   "source": [
    "end_time = 30\n",
    "end_time_plot = 100\n",
    "display_params = p1 #primary_params + secondary_params + tertiary_params\n",
    "t0_frac = 0.2\n",
    "query_remove = True\n",
    "\n",
    "non_existing_files, non_existing_params, remove_files = read_results([name_list[6]], \n",
    "                                                        path, \n",
    "                                                        end_time=end_time, \n",
    "                                                        display_params=display_params, \n",
    "                                                        t0_frac=t0_frac, \n",
    "                                                        end_time_plot=end_time_plot,\n",
    "                                                        query_remove=query_remove)"
   ]
  },
  {
   "cell_type": "code",
   "execution_count": 23,
   "metadata": {},
   "outputs": [
    {
     "data": {
      "text/plain": [
       "[]"
      ]
     },
     "execution_count": 23,
     "metadata": {},
     "output_type": "execute_result"
    }
   ],
   "source": [
    "non_existing_params\n",
    "# delete_results(non_existing_files, path)"
   ]
  },
  {
   "cell_type": "code",
   "execution_count": null,
   "metadata": {},
   "outputs": [],
   "source": []
  }
 ],
 "metadata": {
  "kernelspec": {
   "display_name": "Python 3.8.5 ('base')",
   "language": "python",
   "name": "python3"
  },
  "language_info": {
   "codemirror_mode": {
    "name": "ipython",
    "version": 3
   },
   "file_extension": ".py",
   "mimetype": "text/x-python",
   "name": "python",
   "nbconvert_exporter": "python",
   "pygments_lexer": "ipython3",
   "version": "3.8.5"
  },
  "vscode": {
   "interpreter": {
    "hash": "28edffddebd8e7e82695004644e928e55a1390a00736088cc396dbbdc4e98ca2"
   }
  }
 },
 "nbformat": 4,
 "nbformat_minor": 4
}
